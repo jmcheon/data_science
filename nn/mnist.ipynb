{
 "cells": [
  {
   "cell_type": "markdown",
   "metadata": {},
   "source": [
    "# MNIST"
   ]
  },
  {
   "cell_type": "code",
   "execution_count": 1,
   "metadata": {},
   "outputs": [],
   "source": [
    "import csv\n",
    "import numpy as np\n",
    "\n",
    "def load_data(filepath, delimiter=\",\", dtype=float):\n",
    "    \"\"\"Load a numerical numpy array from a file.\"\"\"\n",
    "\n",
    "    print(f\"Loading {filepath}...\")\n",
    "    with open(filepath, \"r\") as f:\n",
    "        data_iterator = csv.reader(f, delimiter=delimiter)\n",
    "        data_list = list(data_iterator)\n",
    "    data = np.asarray(data_list, dtype=dtype)\n",
    "    y = data[:, 0].reshape(-1, 1)\n",
    "    x = data[:, 1:]\n",
    "    print(\"Done.\")\n",
    "    return x, y"
   ]
  },
  {
   "cell_type": "markdown",
   "metadata": {},
   "source": [
    "## 1. Dataset load"
   ]
  },
  {
   "cell_type": "markdown",
   "metadata": {},
   "source": [
    "### 1-1. Using CSV dataset"
   ]
  },
  {
   "cell_type": "code",
   "execution_count": 95,
   "metadata": {},
   "outputs": [
    {
     "name": "stdout",
     "output_type": "stream",
     "text": [
      "Loading ./datasets/MNIST/data_train.csv...\n",
      "Done.\n",
      "Loading ./datasets/MNIST/data_test.csv...\n",
      "Done.\n"
     ]
    }
   ],
   "source": [
    "TRAIN_FILE = \"./datasets/MNIST/data_train.csv\"\n",
    "TEST_FILE =  \"./datasets/MNIST/data_test.csv\"\n",
    "\n",
    "# train_data = load_data(TRAIN_FILE, ',', int)\n",
    "# test_data = load_data(TEST_FILE, ',', int)\n",
    "\n",
    "x_train, y_train = load_data(TRAIN_FILE, ',', int)\n",
    "x_test, y_test = load_data(TEST_FILE, ',', int)"
   ]
  },
  {
   "cell_type": "code",
   "execution_count": 6,
   "metadata": {},
   "outputs": [
    {
     "name": "stdout",
     "output_type": "stream",
     "text": [
      "x train shape: (60000, 784) float64\n",
      "y train shape: (60000, 1) uint8\n",
      "x test shape: (10000, 784) float64\n",
      "y test shape: (10000, 1) uint8\n"
     ]
    }
   ],
   "source": [
    "x_train, x_test = x_train / 255.0, x_test / 255.0\n",
    "\n",
    "print(\"x train shape:\", x_train.shape, x_train.dtype)\n",
    "print(\"y train shape:\", y_train.shape, y_train.dtype)\n",
    "print(\"x test shape:\", x_test.shape, x_test.dtype)\n",
    "print(\"y test shape:\", y_test.shape, y_test.dtype)"
   ]
  },
  {
   "cell_type": "code",
   "execution_count": 3,
   "metadata": {},
   "outputs": [
    {
     "name": "stdout",
     "output_type": "stream",
     "text": [
      "(60000, 785)\n",
      "(10000, 785)\n"
     ]
    }
   ],
   "source": [
    "train_data = np.hstack((y_train, x_train))\n",
    "print(train_data.shape)\n",
    "test_data = np.hstack((y_test, x_test))\n",
    "print(test_data.shape)"
   ]
  },
  {
   "cell_type": "markdown",
   "metadata": {},
   "source": [
    "### 1-2. Using keras"
   ]
  },
  {
   "cell_type": "code",
   "execution_count": 2,
   "metadata": {},
   "outputs": [
    {
     "name": "stderr",
     "output_type": "stream",
     "text": [
      "2024-05-30 19:00:43.840081: I tensorflow/core/platform/cpu_feature_guard.cc:182] This TensorFlow binary is optimized to use available CPU instructions in performance-critical operations.\n",
      "To enable the following instructions: SSE4.1 SSE4.2 AVX AVX2 FMA, in other operations, rebuild TensorFlow with the appropriate compiler flags.\n"
     ]
    },
    {
     "name": "stdout",
     "output_type": "stream",
     "text": [
      "x train shape: (60000, 784) float64\n",
      "y train shape: (60000, 1) uint8\n",
      "x test shape: (10000, 784) float64\n",
      "y test shape: (10000, 1) uint8\n"
     ]
    }
   ],
   "source": [
    "import tensorflow as tf\n",
    "\n",
    "mnist = tf.keras.datasets.mnist\n",
    "(x_train, y_train),(x_test,y_test) = mnist.load_data()\n",
    "x_train, x_test = x_train / 255.0, x_test / 255.0\n",
    "\n",
    "x_train = x_train.reshape(x_train.shape[0], -1)\n",
    "y_train = y_train.reshape(y_train.shape[0], -1)\n",
    "x_test = x_test.reshape(x_test.shape[0], -1)\n",
    "y_test = y_test.reshape(y_test.shape[0], -1)\n",
    "\n",
    "print(\"x train shape:\", x_train.shape, x_train.dtype)\n",
    "print(\"y train shape:\", y_train.shape, y_train.dtype)\n",
    "print(\"x test shape:\", x_test.shape, x_test.dtype)\n",
    "print(\"y test shape:\", y_test.shape, y_test.dtype)"
   ]
  },
  {
   "cell_type": "code",
   "execution_count": 4,
   "metadata": {},
   "outputs": [
    {
     "name": "stdout",
     "output_type": "stream",
     "text": [
      "(60000, 785)\n",
      "(10000, 785)\n"
     ]
    }
   ],
   "source": [
    "train_data1 = np.hstack((y_train, x_train))\n",
    "print(train_data1.shape)\n",
    "test_data1 = np.hstack((y_test, x_test))\n",
    "print(test_data1.shape)"
   ]
  },
  {
   "cell_type": "code",
   "execution_count": 5,
   "metadata": {},
   "outputs": [
    {
     "name": "stdout",
     "output_type": "stream",
     "text": [
      "True\n",
      "True\n"
     ]
    }
   ],
   "source": [
    "t = train_data1 == train_data\n",
    "print(t.all())\n",
    "\n",
    "t = test_data1 == test_data\n",
    "print(t.all())"
   ]
  },
  {
   "cell_type": "code",
   "execution_count": 6,
   "metadata": {},
   "outputs": [
    {
     "name": "stdout",
     "output_type": "stream",
     "text": [
      "                            \n",
      "            ############    \n",
      "        ################    \n",
      "       ################     \n",
      "       ###########          \n",
      "        ####### ##          \n",
      "         #####              \n",
      "           ####             \n",
      "           ####             \n",
      "            ######          \n",
      "             ######         \n",
      "              ######        \n",
      "               #####        \n",
      "                 ####       \n",
      "              #######       \n",
      "            ########        \n",
      "          #########         \n",
      "        ##########          \n",
      "      ##########            \n",
      "    ##########              \n",
      "    ########                \n"
     ]
    }
   ],
   "source": [
    "data = train_data\n",
    "\n",
    "for row in range(28):\n",
    "    if not sum(data[0, 28 * row: 28 * (row + 1)]):\n",
    "        continue\n",
    "    for col in range(28):\n",
    "        idx = row * 28 + col\n",
    "        print(\"#\" if data[0, 1+idx] else \" \", end=\"\")\n",
    "    print()"
   ]
  },
  {
   "cell_type": "markdown",
   "metadata": {},
   "source": [
    "Import source files"
   ]
  },
  {
   "cell_type": "code",
   "execution_count": 7,
   "metadata": {},
   "outputs": [],
   "source": [
    "from nn.nn1 import NeuralNet, Layer\n",
    "from srcs.activations import LeakyReLU, Sigmoid, Softmax\n",
    "from srcs.losses import MSELoss, CrossEntropyLoss, BCELoss\n",
    "import matplotlib.pyplot as plt"
   ]
  },
  {
   "cell_type": "code",
   "execution_count": 8,
   "metadata": {},
   "outputs": [],
   "source": [
    "import nn.nn_generic as nn"
   ]
  },
  {
   "cell_type": "code",
   "execution_count": 9,
   "metadata": {},
   "outputs": [],
   "source": [
    "def to_col(x):\n",
    "    return x.reshape((x.size, 1))\n",
    "\n",
    "def test(net, test_data):\n",
    "    correct = 0\n",
    "    for i, test_row in enumerate(test_data):\n",
    "\n",
    "        y = test_row[0]\n",
    "        x = to_col(test_row[1:])\n",
    "        out = net.forward(x)\n",
    "        y_pred = np.argmax(out)\n",
    "        # if not i % 3000:\n",
    "        #     print('pred:', y_pred, 'true:', y)\n",
    "        if y == y_pred:\n",
    "            correct += 1\n",
    "\n",
    "    return correct/test_data.shape[0]"
   ]
  },
  {
   "cell_type": "markdown",
   "metadata": {},
   "source": [
    "## 2. Train the network"
   ]
  },
  {
   "cell_type": "code",
   "execution_count": 10,
   "metadata": {},
   "outputs": [
    {
     "name": "stdout",
     "output_type": "stream",
     "text": [
      "input shape: 784\n",
      "output shape: 10\n"
     ]
    }
   ],
   "source": [
    "input_shape = x_train.shape[1]\n",
    "output_shape = len(np.unique(y_train))\n",
    "\n",
    "print(\"input shape:\", input_shape)\n",
    "print(\"output shape:\", output_shape)"
   ]
  },
  {
   "cell_type": "markdown",
   "metadata": {},
   "source": [
    "### 2-1. LeakyRelu"
   ]
  },
  {
   "cell_type": "code",
   "execution_count": 11,
   "metadata": {},
   "outputs": [],
   "source": [
    "def train(net, train_data, epochs=10):\n",
    "    x_train = train_data[:30000, 1:].T\n",
    "    y_train = train_data[:30000, 0:1].T\n",
    "\n",
    "    # print(train_data.shape)\n",
    "    print(\"x_train.shape\", x_train.shape)\n",
    "    print(\"y_train.shape\", y_train.shape)\n",
    "    loss = net._loss_function\n",
    "    train_loss = []\n",
    "\n",
    "    for epoch in range(epochs):\n",
    "        net.fit2(x_train, y_train)\n",
    "        # if epoch % 10 == 0:\n",
    "        print(epoch)\n",
    "        train_loss.append(loss.loss(net.forward(x_train), y_train))\n",
    "        # y_pred = net.forward(x_train)#.reshape(1, -1)\n",
    "        # print(y_pred, y_pred.shape)\n",
    "        # print(y_pred.shape, y_train.flatten().shape)\n",
    "        # print(y_train, y_train.shape)\n",
    "        # train_loss.append(loss.loss(y_pred, y_train))\n",
    "\n",
    "    '''\n",
    "    for i, train_row in enumerate(train_data):\n",
    "        # if not i%1000:\n",
    "        #     print(i)\n",
    "        x = to_col(train_row[1:])\n",
    "        y = np.array(train_row[0], ndmin=2)\n",
    "        # if not i%10000:\n",
    "        #     print('y:', y)\n",
    "        # print(y, y.shape)\n",
    "        net.train(x, y)\n",
    "        if i % 10 == 0:\n",
    "            train_loss.append(loss(net.forward(x), y))\n",
    "    '''\n",
    "\n",
    "    plt.plot(train_loss)\n",
    "    plt.show()\n",
    "\n",
    "    return train_loss"
   ]
  },
  {
   "cell_type": "code",
   "execution_count": 12,
   "metadata": {},
   "outputs": [],
   "source": [
    "x_train = train_data[:30000, 1:].T\n",
    "y_train = train_data[:30000, 0:1].T"
   ]
  },
  {
   "cell_type": "code",
   "execution_count": 13,
   "metadata": {},
   "outputs": [],
   "source": [
    "def initialize_weights(outs, ins):\n",
    "    return np.random.default_rng().normal(loc=0, scale=1/(outs * ins), size=(outs, ins))\n",
    "    # return np.zeros((outs, ins))\n",
    "\n",
    "def initialize_bias(outs):\n",
    "    \"\"\"create a column vector as a matrix\"\"\"\n",
    "    # return np.zeros((outs, 1))\n",
    "    return initialize_weights(outs, 1)"
   ]
  },
  {
   "cell_type": "code",
   "execution_count": 14,
   "metadata": {},
   "outputs": [],
   "source": [
    "class Layer:\n",
    "    \"\"\"\n",
    "    Layer class that represents the connections and the flow of information between a column of neurons and the next.\n",
    "    It deals with what happens in between two columns of neurons instead of having the layer specifially represent the neurons of each vertical column\n",
    "    \"\"\"\n",
    "    def __init__(self, ins, outs, act_function) -> None:\n",
    "        self.ins = ins\n",
    "        self.outs = outs\n",
    "        self.a = None\n",
    "        self.dz = None\n",
    "        self.act_function = act_function\n",
    "\n",
    "        self._W = initialize_weights(self.outs, self.ins)\n",
    "        self._b = initialize_bias(self.outs)\n",
    "\n",
    "    def forward(self, x):\n",
    "        \"\"\"\n",
    "        helper method that computes the forward pass in the layer\n",
    "\n",
    "        Parameters:\n",
    "        x: a set of neuron states\n",
    "\n",
    "        Returns:\n",
    "        the next set of neuron states\n",
    "        \"\"\"\n",
    "        a = self.act_function.f(np.dot(self._W, x) + self._b)\n",
    "        self.a = a\n",
    "        return  a"
   ]
  },
  {
   "cell_type": "code",
   "execution_count": 15,
   "metadata": {},
   "outputs": [],
   "source": [
    "class NeuralNet:\n",
    "    \"\"\"\n",
    "    A series of layers connected and compatible.\n",
    "    \"\"\"\n",
    "    def __init__(self, layers, loss_function, lr) -> None:\n",
    "        self._layers = layers\n",
    "        self._loss_function = loss_function\n",
    "        self.lr = lr\n",
    "        self.activations = []\n",
    "        self.check_layer_compatibility()\n",
    "\n",
    "    def check_layer_compatibility(self):\n",
    "        for from_, to_ in zip(self._layers[:-1], self._layers[1:]):\n",
    "            print(\"from, to:\", from_.ins, to_.ins)\n",
    "            if from_.outs != to_.ins:\n",
    "                raise ValueError(\"Layers should have compatible shapes.\")\n",
    "    \n",
    "    def print_parameter_shape(self):\n",
    "        for i, layer in enumerate(self._layers):\n",
    "            print(f\"W{i} \", layer._W.shape)\n",
    "            print(f\"b{i} \", layer._b.shape)\n",
    "\n",
    "    def forward(self, x):\n",
    "        # xs = [x]\n",
    "        # for layer in self._layers:\n",
    "        #     xs.append(layer.forward(xs[-1]))\n",
    "        # return xs\n",
    "        out = x\n",
    "        self.activations.append(x)\n",
    "        n_layers = len(self._layers)\n",
    "        for layer in self._layers:\n",
    "        # for l in range(n_layers):\n",
    "            out = layer.forward(out)\n",
    "            # out = self._layers[l].forward(self.activations[l - 1])\n",
    "            self.activations.append(out)\n",
    "        return out\n",
    "\n",
    "    def predict(self, x):\n",
    "        a = self.forward(x)\n",
    "        # return (a >= 0.5).astype(int)\n",
    "        return np.argmax(a, axis=0)\n",
    "\n",
    "    def loss(self, y, y_pred):\n",
    "        return self._loss_function.loss(y, y_pred)\n",
    "\n",
    "    def backward(self, y):\n",
    "        # dz = self._layers[-1].a - y\n",
    "        dz = self.activations[-1] - y\n",
    "\n",
    "        # for i in range(len(self.activations)):\n",
    "            # print(f\"A{i}.shape: \", self.activations[i].shape)\n",
    "        m = y.shape[1]\n",
    "        n_layers = len(self._layers)\n",
    "        # print(\"n_layers:\", n_layers)\n",
    "        # for i, layer in enumerate(reversed(self._layers)):\n",
    "        for l in reversed(range(0, n_layers)):\n",
    "            # layer_num = n_layers - i - 2\n",
    "            # print(\"layer num:\", l)\n",
    "            # a = self._layers[l - 1].a\n",
    "            a = self.activations[l]\n",
    "            # print(f\"{l}th a.shape: \", a.shape)\n",
    "\n",
    "            # Compute the derivatives\n",
    "            # print(i)\n",
    "            dW = 1 / m * np.dot(dz, a.T)\n",
    "            db = 1 / m * np.sum(dz, axis=1, keepdims=True)\n",
    "            if l > 0: \n",
    "                dz = np.dot(self._layers[l]._W.T, dz) * a * (1 - a)\n",
    "\n",
    "            # print(\"dW.shape: \", dW.shape)\n",
    "            # print(\"W.shape: \", self._layers[l]._W.shape)\n",
    "            # Update parameters\n",
    "            self._layers[l]._W -= self.lr * dW\n",
    "            self._layers[l]._b -= self.lr * db\n",
    "\n",
    "    def update(self):\n",
    "        pass\n",
    "\n",
    "    def backward2(self, a, y):\n",
    "        dz = a.pop() - y\n",
    "        m = y.shape[1]\n",
    "        n_layers = len(self._layers)\n",
    "        # print(\"m examples:\", m)\n",
    "        for i, (layer, a) in enumerate(zip(self._layers[::-1], a[::-1])):\n",
    "\n",
    "            # Compute the derivatives\n",
    "            # print(i)\n",
    "            dW = 1 / m * np.dot(dz, a.T)\n",
    "            db = 1 / m * np.sum(dz, axis=1, keepdims=True)\n",
    "            if i < n_layers: \n",
    "                dz = np.dot(layer._W.T, dz) * a * (1 - a)\n",
    "\n",
    "            # Update parameters\n",
    "            layer._W -= self.lr * dW\n",
    "            layer._b -= self.lr * db\n",
    "\n",
    "    \n",
    "    def fit(self, x_train, y_train, epochs=10):\n",
    "        # x_train = train_data[:30000, 1:].T\n",
    "        # y_train = train_data[:30000, 0:1].T\n",
    "\n",
    "        # print(train_data.shape)\n",
    "        print(\"x_train.shape\", x_train.shape)\n",
    "        print(\"y_train.shape\", y_train.shape)\n",
    "        train_loss = []\n",
    "\n",
    "        for epoch in range(epochs):\n",
    "            # self.fit(x_train, y_train)\n",
    "            self.forward(x_train)\n",
    "            self.backward(y_train)\n",
    "            # if epoch % 10 == 0:\n",
    "            print(epoch)\n",
    "            train_loss.append(self._loss_function.compute_loss(self.forward(x_train), y_train))\n",
    "            # y_pred = net.forward(x_train)#.reshape(1, -1)\n",
    "            # print(y_pred, y_pred.shape)\n",
    "            # print(y_pred.shape, y_train.flatten().shape)\n",
    "            # print(y_train, y_train.shape)\n",
    "            # train_loss.append(loss.loss(y_pred, y_train))\n",
    "\n",
    "        '''\n",
    "        for i, train_row in enumerate(train_data):\n",
    "            # if not i%1000:\n",
    "            #     print(i)\n",
    "            x = to_col(train_row[1:])\n",
    "            y = np.array(train_row[0], ndmin=2)\n",
    "            # if not i%10000:\n",
    "            #     print('y:', y)\n",
    "            # print(y, y.shape)\n",
    "            net.train(x, y)\n",
    "            if i % 10 == 0:\n",
    "                train_loss.append(loss(net.forward(x), y))\n",
    "        '''\n",
    "\n",
    "        return train_loss\n",
    "\n",
    "    def fit2(self, x, y):\n",
    "        \"\"\"\n",
    "        Train the network on input x and expected output y.\n",
    "        \"\"\"\n",
    "        # activations during forward pass\n",
    "        a = [x]\n",
    "        for layer in self._layers:\n",
    "            a.append(layer.forward(a[-1]))\n",
    "\n",
    "        # backpropagation\n",
    "        self.backward2(a, y)"
   ]
  },
  {
   "cell_type": "markdown",
   "metadata": {},
   "source": [
    "#### 2-1-1. LeakyRelu + MSELoss"
   ]
  },
  {
   "cell_type": "code",
   "execution_count": 16,
   "metadata": {},
   "outputs": [
    {
     "name": "stdout",
     "output_type": "stream",
     "text": [
      "from, to: 784 20\n",
      "from, to: 20 16\n",
      "W0  (20, 784)\n",
      "b0  (20, 1)\n",
      "W1  (16, 20)\n",
      "b1  (16, 1)\n",
      "W2  (10, 16)\n",
      "b2  (10, 1)\n",
      "x_train.shape (784, 30000)\n",
      "y_train.shape (1, 30000)\n",
      "0\n",
      "1\n",
      "2\n",
      "3\n",
      "4\n",
      "5\n",
      "6\n",
      "7\n",
      "8\n",
      "9\n",
      "Accuracy is 10.10%\n"
     ]
    }
   ],
   "source": [
    "layers = [\n",
    "    Layer(input_shape, 20, LeakyReLU()),\n",
    "    Layer(20, 16, LeakyReLU()),\n",
    "    Layer(16, output_shape, LeakyReLU()),\n",
    "]\n",
    "net = NeuralNet(layers, MSELoss(), 0.01)\n",
    "net.print_parameter_shape()\n",
    "\n",
    "# train(net, train_data)\n",
    "net.fit(x_train, y_train)\n",
    "\n",
    "accuracy = test(net, test_data)\n",
    "print(f\"Accuracy is {100*accuracy:.2f}%\")"
   ]
  },
  {
   "cell_type": "markdown",
   "metadata": {},
   "source": [
    "#### 2-1-2. LeakyRelu + BCELoss"
   ]
  },
  {
   "cell_type": "code",
   "execution_count": 127,
   "metadata": {},
   "outputs": [
    {
     "name": "stdout",
     "output_type": "stream",
     "text": [
      "from, to: 784 16\n",
      "from, to: 16 16\n",
      "x_train.shape (784, 30000)\n",
      "y_train.shape (1, 30000)\n"
     ]
    },
    {
     "ename": "ValueError",
     "evalue": "operands could not be broadcast together with shapes (16,16) (10,16) (16,16) ",
     "output_type": "error",
     "traceback": [
      "\u001b[0;31m---------------------------------------------------------------------------\u001b[0m",
      "\u001b[0;31mValueError\u001b[0m                                Traceback (most recent call last)",
      "Cell \u001b[0;32mIn[127], line 10\u001b[0m\n\u001b[1;32m      7\u001b[0m net \u001b[38;5;241m=\u001b[39m NeuralNet(layers, BCELoss(), \u001b[38;5;241m0.01\u001b[39m)\n\u001b[1;32m      9\u001b[0m \u001b[38;5;66;03m# train_loss = train(net, train_data)\u001b[39;00m\n\u001b[0;32m---> 10\u001b[0m \u001b[43mnet\u001b[49m\u001b[38;5;241;43m.\u001b[39;49m\u001b[43mfit\u001b[49m\u001b[43m(\u001b[49m\u001b[43mx_train\u001b[49m\u001b[43m,\u001b[49m\u001b[43m \u001b[49m\u001b[43my_train\u001b[49m\u001b[43m)\u001b[49m\n\u001b[1;32m     12\u001b[0m accuracy \u001b[38;5;241m=\u001b[39m test(net, test_data)\n\u001b[1;32m     13\u001b[0m \u001b[38;5;28mprint\u001b[39m(\u001b[38;5;124mf\u001b[39m\u001b[38;5;124m\"\u001b[39m\u001b[38;5;124mAccuracy is \u001b[39m\u001b[38;5;132;01m{\u001b[39;00m\u001b[38;5;241m100\u001b[39m\u001b[38;5;241m*\u001b[39maccuracy\u001b[38;5;132;01m:\u001b[39;00m\u001b[38;5;124m.2f\u001b[39m\u001b[38;5;132;01m}\u001b[39;00m\u001b[38;5;124m%\u001b[39m\u001b[38;5;124m\"\u001b[39m)\n",
      "File \u001b[0;32m~/Documents/42cursus/algo_ai_data_branch/multilayer_perceptron/nn/nn1.py:129\u001b[0m, in \u001b[0;36mNeuralNet.fit\u001b[0;34m(self, x_train, y_train, epochs)\u001b[0m\n\u001b[1;32m    126\u001b[0m \u001b[38;5;28;01mfor\u001b[39;00m epoch \u001b[38;5;129;01min\u001b[39;00m \u001b[38;5;28mrange\u001b[39m(epochs):\n\u001b[1;32m    127\u001b[0m     \u001b[38;5;66;03m# self.fit(x_train, y_train)\u001b[39;00m\n\u001b[1;32m    128\u001b[0m     \u001b[38;5;28mself\u001b[39m\u001b[38;5;241m.\u001b[39mforward(x_train)\n\u001b[0;32m--> 129\u001b[0m     \u001b[38;5;28;43mself\u001b[39;49m\u001b[38;5;241;43m.\u001b[39;49m\u001b[43mbackward\u001b[49m\u001b[43m(\u001b[49m\u001b[43my_train\u001b[49m\u001b[43m)\u001b[49m\n\u001b[1;32m    130\u001b[0m     \u001b[38;5;66;03m# if epoch % 10 == 0:\u001b[39;00m\n\u001b[1;32m    131\u001b[0m     \u001b[38;5;28mprint\u001b[39m(epoch)\n",
      "File \u001b[0;32m~/Documents/42cursus/algo_ai_data_branch/multilayer_perceptron/nn/nn1.py:95\u001b[0m, in \u001b[0;36mNeuralNet.backward\u001b[0;34m(self, y)\u001b[0m\n\u001b[1;32m     92\u001b[0m     dz \u001b[38;5;241m=\u001b[39m np\u001b[38;5;241m.\u001b[39mdot(layer\u001b[38;5;241m.\u001b[39m_W\u001b[38;5;241m.\u001b[39mT, dz) \u001b[38;5;241m*\u001b[39m a \u001b[38;5;241m*\u001b[39m (\u001b[38;5;241m1\u001b[39m \u001b[38;5;241m-\u001b[39m a)\n\u001b[1;32m     94\u001b[0m \u001b[38;5;66;03m# Update parameters\u001b[39;00m\n\u001b[0;32m---> 95\u001b[0m \u001b[43mlayer\u001b[49m\u001b[38;5;241;43m.\u001b[39;49m\u001b[43m_W\u001b[49m\u001b[43m \u001b[49m\u001b[38;5;241;43m-\u001b[39;49m\u001b[38;5;241;43m=\u001b[39;49m\u001b[43m \u001b[49m\u001b[38;5;28;43mself\u001b[39;49m\u001b[38;5;241;43m.\u001b[39;49m\u001b[43mlr\u001b[49m\u001b[43m \u001b[49m\u001b[38;5;241;43m*\u001b[39;49m\u001b[43m \u001b[49m\u001b[43mdW\u001b[49m\n\u001b[1;32m     96\u001b[0m layer\u001b[38;5;241m.\u001b[39m_b \u001b[38;5;241m-\u001b[39m\u001b[38;5;241m=\u001b[39m \u001b[38;5;28mself\u001b[39m\u001b[38;5;241m.\u001b[39mlr \u001b[38;5;241m*\u001b[39m db\n",
      "\u001b[0;31mValueError\u001b[0m: operands could not be broadcast together with shapes (16,16) (10,16) (16,16) "
     ]
    }
   ],
   "source": [
    "# Use BCELoss\n",
    "layers = [\n",
    "    Layer(input_shape, 16, LeakyReLU()),\n",
    "    Layer(16, 16, LeakyReLU()),\n",
    "    Layer(16, output_shape, LeakyReLU()),\n",
    "]\n",
    "net = NeuralNet(layers, BCELoss(), 0.01)\n",
    "\n",
    "# train_loss = train(net, train_data)\n",
    "net.fit(x_train, y_train)\n",
    "\n",
    "accuracy = test(net, test_data)\n",
    "print(f\"Accuracy is {100*accuracy:.2f}%\")"
   ]
  },
  {
   "cell_type": "code",
   "execution_count": 120,
   "metadata": {},
   "outputs": [
    {
     "ename": "NameError",
     "evalue": "name 'train_loss' is not defined",
     "output_type": "error",
     "traceback": [
      "\u001b[0;31m---------------------------------------------------------------------------\u001b[0m",
      "\u001b[0;31mNameError\u001b[0m                                 Traceback (most recent call last)",
      "Cell \u001b[0;32mIn[120], line 8\u001b[0m\n\u001b[1;32m      6\u001b[0m loss \u001b[38;5;241m=\u001b[39m \u001b[38;5;241m-\u001b[39m np\u001b[38;5;241m.\u001b[39mmean(y \u001b[38;5;241m*\u001b[39m np\u001b[38;5;241m.\u001b[39mlog(y_pred) \u001b[38;5;241m+\u001b[39m (\u001b[38;5;241m1\u001b[39m \u001b[38;5;241m-\u001b[39m y) \u001b[38;5;241m*\u001b[39m np\u001b[38;5;241m.\u001b[39mlog(\u001b[38;5;241m1\u001b[39m \u001b[38;5;241m-\u001b[39m y_pred))\n\u001b[1;32m      7\u001b[0m loss\n\u001b[0;32m----> 8\u001b[0m \u001b[43mtrain_loss\u001b[49m\n",
      "\u001b[0;31mNameError\u001b[0m: name 'train_loss' is not defined"
     ]
    }
   ],
   "source": [
    "y_pred = 0.2\n",
    "y = 0\n",
    "eps=1e-15\n",
    "\n",
    "y_pred = np.clip(y_pred, eps, 1 - eps)\n",
    "loss = - np.mean(y * np.log(y_pred) + (1 - y) * np.log(1 - y_pred))\n",
    "loss\n",
    "train_loss"
   ]
  },
  {
   "cell_type": "markdown",
   "metadata": {},
   "source": [
    "#### 2-1-3. LeakyRelu + CrossEntropyLoss"
   ]
  },
  {
   "cell_type": "code",
   "execution_count": 125,
   "metadata": {},
   "outputs": [
    {
     "name": "stdout",
     "output_type": "stream",
     "text": [
      "from, to: 784 16\n",
      "from, to: 16 16\n",
      "x_train.shape (784, 30000)\n",
      "y_train.shape (1, 30000)\n",
      "0\n"
     ]
    },
    {
     "ename": "AttributeError",
     "evalue": "'CrossEntropyLoss' object has no attribute 'compute_loss'",
     "output_type": "error",
     "traceback": [
      "\u001b[0;31m---------------------------------------------------------------------------\u001b[0m",
      "\u001b[0;31mAttributeError\u001b[0m                            Traceback (most recent call last)",
      "Cell \u001b[0;32mIn[125], line 9\u001b[0m\n\u001b[1;32m      6\u001b[0m net \u001b[38;5;241m=\u001b[39m NeuralNet(layers, CrossEntropyLoss(), \u001b[38;5;241m0.001\u001b[39m)\n\u001b[1;32m      8\u001b[0m \u001b[38;5;66;03m# train_loss = train(net, train_data)\u001b[39;00m\n\u001b[0;32m----> 9\u001b[0m train_loss \u001b[38;5;241m=\u001b[39m \u001b[43mnet\u001b[49m\u001b[38;5;241;43m.\u001b[39;49m\u001b[43mfit\u001b[49m\u001b[43m(\u001b[49m\u001b[43mx_train\u001b[49m\u001b[43m,\u001b[49m\u001b[43m \u001b[49m\u001b[43my_train\u001b[49m\u001b[43m)\u001b[49m\n\u001b[1;32m     11\u001b[0m accuracy \u001b[38;5;241m=\u001b[39m test(net, test_data)\n\u001b[1;32m     12\u001b[0m \u001b[38;5;28mprint\u001b[39m(\u001b[38;5;124mf\u001b[39m\u001b[38;5;124m\"\u001b[39m\u001b[38;5;124mAccuracy is \u001b[39m\u001b[38;5;132;01m{\u001b[39;00m\u001b[38;5;241m100\u001b[39m\u001b[38;5;241m*\u001b[39maccuracy\u001b[38;5;132;01m:\u001b[39;00m\u001b[38;5;124m.2f\u001b[39m\u001b[38;5;132;01m}\u001b[39;00m\u001b[38;5;124m%\u001b[39m\u001b[38;5;124m\"\u001b[39m)\n",
      "Cell \u001b[0;32mIn[124], line 113\u001b[0m, in \u001b[0;36mNeuralNet.fit\u001b[0;34m(self, x_train, y_train, epochs)\u001b[0m\n\u001b[1;32m    111\u001b[0m     \u001b[38;5;66;03m# if epoch % 10 == 0:\u001b[39;00m\n\u001b[1;32m    112\u001b[0m     \u001b[38;5;28mprint\u001b[39m(epoch)\n\u001b[0;32m--> 113\u001b[0m     train_loss\u001b[38;5;241m.\u001b[39mappend(\u001b[38;5;28;43mself\u001b[39;49m\u001b[38;5;241;43m.\u001b[39;49m\u001b[43m_loss_function\u001b[49m\u001b[38;5;241;43m.\u001b[39;49m\u001b[43mcompute_loss\u001b[49m(\u001b[38;5;28mself\u001b[39m\u001b[38;5;241m.\u001b[39mforward(x_train), y_train))\n\u001b[1;32m    114\u001b[0m     \u001b[38;5;66;03m# y_pred = net.forward(x_train)#.reshape(1, -1)\u001b[39;00m\n\u001b[1;32m    115\u001b[0m     \u001b[38;5;66;03m# print(y_pred, y_pred.shape)\u001b[39;00m\n\u001b[1;32m    116\u001b[0m     \u001b[38;5;66;03m# print(y_pred.shape, y_train.flatten().shape)\u001b[39;00m\n\u001b[1;32m    117\u001b[0m     \u001b[38;5;66;03m# print(y_train, y_train.shape)\u001b[39;00m\n\u001b[1;32m    118\u001b[0m     \u001b[38;5;66;03m# train_loss.append(loss.loss(y_pred, y_train))\u001b[39;00m\n\u001b[1;32m    120\u001b[0m \u001b[38;5;250m\u001b[39m\u001b[38;5;124;03m'''\u001b[39;00m\n\u001b[1;32m    121\u001b[0m \u001b[38;5;124;03mfor i, train_row in enumerate(train_data):\u001b[39;00m\n\u001b[1;32m    122\u001b[0m \u001b[38;5;124;03m    # if not i%1000:\u001b[39;00m\n\u001b[0;32m   (...)\u001b[0m\n\u001b[1;32m    131\u001b[0m \u001b[38;5;124;03m        train_loss.append(loss(net.forward(x), y))\u001b[39;00m\n\u001b[1;32m    132\u001b[0m \u001b[38;5;124;03m'''\u001b[39;00m\n",
      "\u001b[0;31mAttributeError\u001b[0m: 'CrossEntropyLoss' object has no attribute 'compute_loss'"
     ]
    }
   ],
   "source": [
    "layers = [\n",
    "    Layer(input_shape, 16, LeakyReLU()),\n",
    "    Layer(16, 16, LeakyReLU()),\n",
    "    Layer(16, output_shape, LeakyReLU()),\n",
    "]\n",
    "net = NeuralNet(layers, CrossEntropyLoss(), 0.001)\n",
    "\n",
    "# train_loss = train(net, train_data)\n",
    "train_loss = net.fit(x_train, y_train)\n",
    "\n",
    "accuracy = test(net, test_data)\n",
    "print(f\"Accuracy is {100*accuracy:.2f}%\")"
   ]
  },
  {
   "cell_type": "code",
   "execution_count": 123,
   "metadata": {},
   "outputs": [
    {
     "data": {
      "text/plain": [
       "[nan, nan, nan, nan, nan, nan, nan, nan, nan, nan]"
      ]
     },
     "execution_count": 123,
     "metadata": {},
     "output_type": "execute_result"
    }
   ],
   "source": [
    "train_loss"
   ]
  },
  {
   "cell_type": "markdown",
   "metadata": {},
   "source": [
    "### 2-2. Sigmoid"
   ]
  },
  {
   "cell_type": "code",
   "execution_count": null,
   "metadata": {},
   "outputs": [],
   "source": [
    "def train(net, train_data):\n",
    "    # Precompute all target vectors.\n",
    "    ys = {}\n",
    "    for y in range(10):\n",
    "        yv = np.zeros((10, 1))\n",
    "        yv[t] = 1\n",
    "        ys[t] = yv\n",
    "\n",
    "    for i, train_row in enumerate(train_data):\n",
    "        if not i%10000:\n",
    "            print(i)\n",
    "\n",
    "        y = ys[train_row[0]] # one-hot vector\n",
    "        x = to_col(train_row[1:])\n",
    "        net.train(x, y)"
   ]
  },
  {
   "cell_type": "markdown",
   "metadata": {},
   "source": [
    "#### 2-2-1. Sigmoid + MSELoss"
   ]
  },
  {
   "cell_type": "code",
   "execution_count": null,
   "metadata": {},
   "outputs": [
    {
     "name": "stdout",
     "output_type": "stream",
     "text": [
      "from, to: 784 16\n",
      "from, to: 16 16\n",
      "x_train.shape (784, 30000)\n",
      "y_train.shape (1, 30000)\n",
      "0\n",
      "1\n",
      "2\n",
      "3\n",
      "4\n",
      "5\n",
      "6\n",
      "7\n",
      "8\n",
      "9\n"
     ]
    },
    {
     "data": {
      "image/png": "[encoded data removed]",
      "text/plain": [
       "<Figure size 640x480 with 1 Axes>"
      ]
     },
     "metadata": {},
     "output_type": "display_data"
    },
    {
     "name": "stdout",
     "output_type": "stream",
     "text": [
      "Accuracy is 10.28%\n"
     ]
    }
   ],
   "source": [
    "# Use a Sigmoid as the final layer\n",
    "layers = [\n",
    "    Layer(input_shape, 16, LeakyReLU()),\n",
    "    Layer(16, 16, LeakyReLU()),\n",
    "    Layer(16, output_shape, Sigmoid()),\n",
    "]\n",
    "net = NeuralNet(layers, MSELoss(), 0.001)\n",
    "\n",
    "train(net, train_data)\n",
    "\n",
    "accuracy = test(net, test_data)\n",
    "print(f\"Accuracy is {100*accuracy:.2f}%\")"
   ]
  },
  {
   "cell_type": "markdown",
   "metadata": {},
   "source": [
    "#### 2-2-2. Sigmoid + BCELoss"
   ]
  },
  {
   "cell_type": "code",
   "execution_count": 104,
   "metadata": {},
   "outputs": [
    {
     "name": "stdout",
     "output_type": "stream",
     "text": [
      "from, to: 784 16\n",
      "from, to: 16 16\n",
      "x_train.shape (784, 30000)\n",
      "y_train.shape (1, 30000)\n",
      "0\n",
      "1\n",
      "2\n",
      "3\n",
      "4\n",
      "5\n",
      "6\n",
      "7\n",
      "8\n",
      "9\n",
      "Accuracy is 8.92%\n"
     ]
    }
   ],
   "source": [
    "# sigmoid at the end and the BCELoss\n",
    "layers = [\n",
    "    Layer(input_shape, 16, LeakyReLU()),\n",
    "    Layer(16, 16, LeakyReLU()),\n",
    "    Layer(16, output_shape, Sigmoid()),\n",
    "]\n",
    "net = NeuralNet(layers, BCELoss(), 0.001)\n",
    "\n",
    "# train(net, train_data)\n",
    "net.fit(x_train, y_train)\n",
    "\n",
    "accuracy = test(net, test_data)\n",
    "print(f\"Accuracy is {100*accuracy:.2f}%\")"
   ]
  },
  {
   "cell_type": "markdown",
   "metadata": {},
   "source": [
    "#### 2-2-3. Sigmoid + CrossEntropyLoss"
   ]
  },
  {
   "cell_type": "code",
   "execution_count": 42,
   "metadata": {},
   "outputs": [
    {
     "name": "stdout",
     "output_type": "stream",
     "text": [
      "from, to: 784 16\n",
      "from, to: 16 16\n",
      "x_train.shape (784, 30000)\n",
      "y_train.shape (1, 30000)\n",
      "0\n",
      "1\n",
      "2\n",
      "3\n",
      "4\n",
      "5\n",
      "6\n",
      "7\n",
      "8\n",
      "9\n"
     ]
    },
    {
     "data": {
      "image/png": "[encoded data removed]",
      "text/plain": [
       "<Figure size 640x480 with 1 Axes>"
      ]
     },
     "metadata": {},
     "output_type": "display_data"
    },
    {
     "name": "stdout",
     "output_type": "stream",
     "text": [
      "Accuracy is 8.92%\n"
     ]
    }
   ],
   "source": [
    "# sigmoid at the end and the CrossEntropyLoss\n",
    "layers = [\n",
    "    Layer(input_shape, 16, LeakyReLU()),\n",
    "    Layer(16, 16, LeakyReLU()),\n",
    "    Layer(16, output_shape, Sigmoid()),\n",
    "]\n",
    "net = NeuralNet(layers, CrossEntropyLoss(), 0.001)\n",
    "\n",
    "train(net, train_data)\n",
    "\n",
    "accuracy = test(net, test_data)\n",
    "print(f\"Accuracy is {100*accuracy:.2f}%\")"
   ]
  },
  {
   "cell_type": "markdown",
   "metadata": {},
   "source": [
    "### 2-3. Softmax"
   ]
  },
  {
   "cell_type": "code",
   "execution_count": 58,
   "metadata": {},
   "outputs": [],
   "source": [
    "def train(net, train_data):\n",
    "    for i, train_row in enumerate(train_data):\n",
    "        t = train_row[0]  # Assume the first element is the class label\n",
    "        x = to_col(train_row[1:])  # Assume the rest are input features\n",
    "        \n",
    "        # Convert the class label to one-hot encoding\n",
    "        t_one_hot = np.zeros((10, 1))  # net.output_size is the number of classes\n",
    "        t_one_hot[t] = 1\n",
    "\n",
    "        # Train the network\n",
    "        # print(\"x in train:\", x.shape)\n",
    "        net.train(x, t_one_hot)"
   ]
  },
  {
   "cell_type": "markdown",
   "metadata": {},
   "source": [
    "#### 2-3-1. Softmax + MSELoss"
   ]
  },
  {
   "cell_type": "code",
   "execution_count": 43,
   "metadata": {},
   "outputs": [
    {
     "name": "stdout",
     "output_type": "stream",
     "text": [
      "from, to: 784 16\n",
      "from, to: 16 16\n",
      "x_train.shape (784, 30000)\n",
      "y_train.shape (1, 30000)\n",
      "0\n",
      "1\n",
      "2\n",
      "3\n",
      "4\n",
      "5\n",
      "6\n",
      "7\n",
      "8\n",
      "9\n"
     ]
    },
    {
     "data": {
      "image/png": "[encoded data removed]",
      "text/plain": [
       "<Figure size 640x480 with 1 Axes>"
      ]
     },
     "metadata": {},
     "output_type": "display_data"
    },
    {
     "name": "stdout",
     "output_type": "stream",
     "text": [
      "Accuracy is 9.80%\n"
     ]
    }
   ],
   "source": [
    "layers = [\n",
    "    Layer(input_shape, 16, LeakyReLU()),\n",
    "    Layer(16, 16, LeakyReLU()),\n",
    "    Layer(16, output_shape, Softmax()),\n",
    "]\n",
    "net = NeuralNet(layers, MSELoss(), 0.001)\n",
    "\n",
    "train(net, train_data)\n",
    "\n",
    "accuracy = test(net, test_data)\n",
    "print(f\"Accuracy is {100*accuracy:.2f}%\")"
   ]
  },
  {
   "cell_type": "markdown",
   "metadata": {},
   "source": [
    "#### 2-3-2. Softmax + BCELoss"
   ]
  },
  {
   "cell_type": "code",
   "execution_count": 105,
   "metadata": {},
   "outputs": [
    {
     "name": "stdout",
     "output_type": "stream",
     "text": [
      "from, to: 784 16\n",
      "from, to: 16 16\n",
      "x_train.shape (784, 30000)\n",
      "y_train.shape (1, 30000)\n",
      "0\n",
      "1\n",
      "2\n",
      "3\n",
      "4\n",
      "5\n",
      "6\n",
      "7\n",
      "8\n",
      "9\n"
     ]
    },
    {
     "data": {
      "image/png": "[encoded data removed]",
      "text/plain": [
       "<Figure size 640x480 with 1 Axes>"
      ]
     },
     "metadata": {},
     "output_type": "display_data"
    },
    {
     "name": "stdout",
     "output_type": "stream",
     "text": [
      "Accuracy is 9.80%\n"
     ]
    }
   ],
   "source": [
    "layers = [\n",
    "    Layer(input_shape, 16, LeakyReLU()),\n",
    "    Layer(16, 16, LeakyReLU()),\n",
    "    Layer(16, output_shape, Softmax()),\n",
    "]\n",
    "net = NeuralNet(layers, BCELoss(), 0.001)\n",
    "\n",
    "train(net, train_data)\n",
    "\n",
    "accuracy = test(net, test_data)\n",
    "print(f\"Accuracy is {100*accuracy:.2f}%\")"
   ]
  },
  {
   "cell_type": "markdown",
   "metadata": {},
   "source": [
    "#### 2-3-3. Softmax + CrossEntropyLoss"
   ]
  },
  {
   "cell_type": "code",
   "execution_count": 59,
   "metadata": {},
   "outputs": [
    {
     "name": "stdout",
     "output_type": "stream",
     "text": [
      "from, to: 784 16\n",
      "from, to: 16 16\n",
      "x_train.shape (784, 30000)\n",
      "y_train.shape (1, 30000)\n",
      "0\n",
      "1\n",
      "2\n",
      "3\n",
      "4\n",
      "5\n",
      "6\n",
      "7\n",
      "8\n",
      "9\n",
      "10\n",
      "11\n",
      "12\n",
      "13\n",
      "14\n",
      "15\n",
      "16\n",
      "17\n",
      "18\n",
      "19\n",
      "20\n",
      "21\n",
      "22\n",
      "23\n",
      "24\n",
      "25\n",
      "26\n",
      "27\n",
      "28\n",
      "29\n"
     ]
    },
    {
     "data": {
      "image/png": "[encoded data removed]",
      "text/plain": [
       "<Figure size 640x480 with 1 Axes>"
      ]
     },
     "metadata": {},
     "output_type": "display_data"
    },
    {
     "name": "stdout",
     "output_type": "stream",
     "text": [
      "Accuracy is 9.80%\n"
     ]
    }
   ],
   "source": [
    "layers = [\n",
    "    Layer(input_shape, 16, LeakyReLU()),\n",
    "    Layer(16, 16, LeakyReLU()),\n",
    "    Layer(16, output_shape, Softmax()),\n",
    "]\n",
    "net = NeuralNet(layers, CrossEntropyLoss(), 0.01)\n",
    "\n",
    "train_loss = train(net, train_data, 30)\n",
    "\n",
    "accuracy = test(net, test_data)\n",
    "print(f\"Accuracy is {100*accuracy:.2f}%\")"
   ]
  },
  {
   "cell_type": "code",
   "execution_count": null,
   "metadata": {},
   "outputs": [],
   "source": [
    "train_loss"
   ]
  },
  {
   "cell_type": "code",
   "execution_count": 16,
   "metadata": {},
   "outputs": [
    {
     "name": "stderr",
     "output_type": "stream",
     "text": [
      "100%|██████████| 10/10 [00:02<00:00,  4.64it/s]\n"
     ]
    },
    {
     "data": {
      "image/png": "[encoded data removed]",
      "text/plain": [
       "<Figure size 1200x400 with 2 Axes>"
      ]
     },
     "metadata": {},
     "output_type": "display_data"
    }
   ],
   "source": [
    "\n",
    "x_train = train_data[:30000, 1:].T\n",
    "y_train = train_data[:30000, 0:1].T\n",
    "parameters, train_loss, train_acc = nn.nn(x_train, y_train, hidden_layers=(16, 16), lr=0.03, epochs=10, plot_graph=True)"
   ]
  },
  {
   "cell_type": "code",
   "execution_count": 17,
   "metadata": {},
   "outputs": [
    {
     "name": "stdout",
     "output_type": "stream",
     "text": [
      "W1 (16, 784)\n",
      "b1 (16, 1)\n",
      "W2 (16, 16)\n",
      "b2 (16, 1)\n",
      "W3 (1, 16)\n",
      "b3 (1, 1)\n"
     ]
    }
   ],
   "source": [
    "for k, v in parameters.items():\n",
    "    print(k, v.shape)"
   ]
  }
 ],
 "metadata": {
  "kernelspec": {
   "display_name": "42AI-cjung-mo",
   "language": "python",
   "name": "python3"
  },
  "language_info": {
   "codemirror_mode": {
    "name": "ipython",
    "version": 3
   },
   "file_extension": ".py",
   "mimetype": "text/x-python",
   "name": "python",
   "nbconvert_exporter": "python",
   "pygments_lexer": "ipython3",
   "version": "3.11.5"
  }
 },
 "nbformat": 4,
 "nbformat_minor": 2
}
